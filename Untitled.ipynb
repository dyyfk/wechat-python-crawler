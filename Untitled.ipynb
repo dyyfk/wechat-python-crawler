{
 "cells": [
  {
   "cell_type": "code",
   "execution_count": 1,
   "metadata": {},
   "outputs": [
    {
     "name": "stdout",
     "output_type": "stream",
     "text": [
      "█\r"
     ]
    },
    {
     "name": "stderr",
     "output_type": "stream",
     "text": [
      "Getting uuid of QR code.\n",
      "Downloading QR code.\n",
      "Please scan the QR code to log in.\n",
      "Please press confirm on your phone.\n",
      "Loading the contact, this may take a little while.\n",
      "Login successfully as 千夜\n"
     ]
    }
   ],
   "source": [
    "import itchat\n",
    "itchat.login()\n",
    "\n",
    "friends = itchat.get_friends(update=True)[0:]\n"
   ]
  },
  {
   "cell_type": "code",
   "execution_count": 5,
   "metadata": {},
   "outputs": [
    {
     "name": "stdout",
     "output_type": "stream",
     "text": [
      "男性好友比例: 69.95%\n",
      "女性好友比例: 21.18%\n",
      "未知性别: 8.87%\n",
      "\n"
     ]
    }
   ],
   "source": [
    "male = female = other = 0\n",
    "for i in friends[1:]:\n",
    "    sex = i[\"Sex\"]\n",
    "    if sex == 1:\n",
    "        male += 1\n",
    "    elif sex == 2:\n",
    "        female += 1\n",
    "    else:\n",
    "        other += 1\n",
    "\n",
    "total = len(friends[1:])\n",
    "print(\"男性好友比例: %.2f%%\" % (float(male)/total*100) + \"\\n\"+\n",
    "      \"女性好友比例: %.2f%%\" % (float(female)/total*100) + \"\\n\"+\n",
    "      \"未知性别: %.2f%%\" % (float(other)/total*100) + \"\\n\")"
   ]
  },
  {
   "cell_type": "code",
   "execution_count": null,
   "metadata": {},
   "outputs": [],
   "source": []
  }
 ],
 "metadata": {
  "kernelspec": {
   "display_name": "Python 3",
   "language": "python",
   "name": "python3"
  },
  "language_info": {
   "codemirror_mode": {
    "name": "ipython",
    "version": 3
   },
   "file_extension": ".py",
   "mimetype": "text/x-python",
   "name": "python",
   "nbconvert_exporter": "python",
   "pygments_lexer": "ipython3",
   "version": "3.7.1"
  }
 },
 "nbformat": 4,
 "nbformat_minor": 2
}
