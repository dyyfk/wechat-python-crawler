{
 "cells": [
  {
   "cell_type": "code",
   "execution_count": 2,
   "metadata": {},
   "outputs": [
    {
     "name": "stdout",
     "output_type": "stream",
     "text": [
      "█\r"
     ]
    },
    {
     "name": "stderr",
     "output_type": "stream",
     "text": [
      "Getting uuid of QR code.\n",
      "Downloading QR code.\n",
      "Please scan the QR code to log in.\n",
      "Please press confirm on your phone.\n",
      "Loading the contact, this may take a little while.\n",
      "Login successfully as 千夜\n"
     ]
    }
   ],
   "source": [
    "import itchat\n",
    "itchat.login()\n",
    "\n",
    "friends = itchat.get_friends(update=True)[0:]\n"
   ]
  },
  {
   "cell_type": "code",
   "execution_count": null,
   "metadata": {},
   "outputs": [],
   "source": [
    "male = female = other = 0\n",
    "for i in friends[1:]:\n",
    "    sex = i[\"Sex\"]\n",
    "    if sex == 1:\n",
    "        male += 1\n",
    "    elif sex == 2:\n",
    "        female += 1\n",
    "    else:\n",
    "        other += 1\n",
    "\n",
    "total = len(friends[1:])\n",
    "print(\"男性好友比例: %.2f%%\" % (float(male)/total*100) + \"\\n\"+\n",
    "      \"女性好友比例: %.2f%%\" % (float(female)/total*100) + \"\\n\"+\n",
    "      \"未知性别: %.2f%%\" % (float(other)/total*100) + \"\\n\")\n",
    "\n",
    "\n",
    "def get_var(var):\n",
    "    variable = []\n",
    "    for i in friends:\n",
    "        value = i[var]\n",
    "        variable.append(value)\n",
    "    return variable\n",
    "\n",
    "\n",
    "import re\n",
    "siglist = []\n",
    "for i in friends:\n",
    "    signature = i[\"Signature\"].strip().replace(\"span\",\"\").replace(\"class\",\"\").replace(\"emoji\",\"\")\n",
    "    rep = re.compile(\"1f\\d+\\w*|[<>/=]\")\n",
    "    signature = rep.sub(\"\",signature)\n",
    "    siglist.append(signature)\n",
    "text = \"\".join(siglist)\n",
    "\n",
    "\n",
    "\n",
    "import jieba\n",
    "wordlist = jieba.cut(text, cut_all=True)\n",
    "word_space_split = \" \".join(wordlist)\n",
    "print(word_space_split)\n",
    "#绘制词云\n",
    "import matplotlib.pyplot as plt\n",
    "from wordcloud import WordCloud, ImageColorGenerator\n",
    "import numpy as np\n",
    "import PIL.Image as Image\n",
    "coloring = np.array(Image.open(\"/Users/Chef/Desktop/wechat.jpg\"))#自定义词云的图片\n",
    "my_wordcloud = WordCloud(background_color=\"white\", max_words=2000,\n",
    "                         mask=coloring, max_font_size=60, random_state=42,font_path='/Windows/Fonts/simsun.ttc',scale=2).generate(word_space_split)#wget http://labfile.oss.aliyuncs.com/courses/756/DroidSansFallbackFull.ttf中文字符文件\n",
    "\n",
    "image_colors = ImageColorGenerator(coloring)\n",
    "plt.imshow(my_wordcloud.recolor(color_func=image_colors))\n",
    "\n",
    "\n",
    "plt.imshow(my_wordcloud)\n",
    "plt.axis(\"off\")\n",
    "plt.show()\n",
    "\n",
    "\n"
   ]
  },
  {
   "cell_type": "code",
   "execution_count": null,
   "metadata": {},
   "outputs": [],
   "source": []
  },
  {
   "cell_type": "code",
   "execution_count": null,
   "metadata": {},
   "outputs": [],
   "source": []
  },
  {
   "cell_type": "code",
   "execution_count": null,
   "metadata": {},
   "outputs": [],
   "source": []
  }
 ],
 "metadata": {
  "kernelspec": {
   "display_name": "Python 3",
   "language": "python",
   "name": "python3"
  },
  "language_info": {
   "codemirror_mode": {
    "name": "ipython",
    "version": 3
   },
   "file_extension": ".py",
   "mimetype": "text/x-python",
   "name": "python",
   "nbconvert_exporter": "python",
   "pygments_lexer": "ipython3",
   "version": "3.7.1"
  }
 },
 "nbformat": 4,
 "nbformat_minor": 2
}
